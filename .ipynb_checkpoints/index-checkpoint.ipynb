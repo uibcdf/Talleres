{
 "cells": [
  {
   "cell_type": "markdown",
   "id": "377d12d2-ac51-4a78-bc91-9dadf3c805ab",
   "metadata": {},
   "source": [
    "# Talleres\n",
    "\n",
    "YYY\n"
   ]
  },
  {
   "cell_type": "markdown",
   "id": "f730e548-679e-4e9f-bb52-6eace72c1bf3",
   "metadata": {
    "tags": []
   },
   "source": [
    "```{eval-rst}\n",
    "\n",
    ".. toctree::\n",
    "   :name: laboratorio_computacional\n",
    "   :caption: Técnicas Computacionales\n",
    "   :maxdepth: 2\n",
    "   :hidden:\n",
    "\n",
    "   taller_herramientas_computacionales/main.md\n",
    "   taller_Linux/main.md\n",
    "   taller_Python/main.md\n",
    "   taller_data_science/main.md\n",
    "   taller_libreria_Python/main.md\n",
    "```"
   ]
  }
 ],
 "metadata": {
  "kernelspec": {
   "display_name": "Python 3 (ipykernel)",
   "language": "python",
   "name": "python3"
  },
  "language_info": {
   "codemirror_mode": {
    "name": "ipython",
    "version": 3
   },
   "file_extension": ".py",
   "mimetype": "text/x-python",
   "name": "python",
   "nbconvert_exporter": "python",
   "pygments_lexer": "ipython3",
   "version": "3.9.16"
  }
 },
 "nbformat": 4,
 "nbformat_minor": 5
}
